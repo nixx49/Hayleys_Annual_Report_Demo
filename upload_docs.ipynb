{
 "cells": [
  {
   "cell_type": "markdown",
   "metadata": {},
   "source": [
    "### IMPORTS"
   ]
  },
  {
   "cell_type": "code",
   "execution_count": 16,
   "metadata": {},
   "outputs": [
    {
     "name": "stdout",
     "output_type": "stream",
     "text": [
      "Defaulting to user installation because normal site-packages is not writeable\n",
      "Collecting streamlit\n",
      "  Downloading streamlit-1.35.0-py2.py3-none-any.whl (8.6 MB)\n",
      "\u001b[K     |████████████████████████████████| 8.6 MB 2.1 MB/s eta 0:00:01\n",
      "\u001b[?25hCollecting protobuf<5,>=3.20\n",
      "  Downloading protobuf-4.25.3-cp37-abi3-macosx_10_9_universal2.whl (394 kB)\n",
      "\u001b[K     |████████████████████████████████| 394 kB 32.5 MB/s eta 0:00:01\n",
      "\u001b[?25hCollecting numpy<2,>=1.19.3\n",
      "  Downloading numpy-1.26.4-cp39-cp39-macosx_11_0_arm64.whl (14.0 MB)\n",
      "\u001b[K     |████████████████████████████████| 14.0 MB 1.5 MB/s eta 0:00:01    |███████████████████             | 8.3 MB 550 kB/s eta 0:00:11\n",
      "\u001b[?25hCollecting click<9,>=7.0\n",
      "  Downloading click-8.1.7-py3-none-any.whl (97 kB)\n",
      "\u001b[K     |████████████████████████████████| 97 kB 1.3 MB/s eta 0:00:01\n",
      "\u001b[?25hCollecting cachetools<6,>=4.0\n",
      "  Downloading cachetools-5.3.3-py3-none-any.whl (9.3 kB)\n",
      "Requirement already satisfied: requests<3,>=2.27 in /Users/surangananayakkara/Library/Python/3.9/lib/python/site-packages (from streamlit) (2.32.3)\n",
      "Requirement already satisfied: packaging<25,>=16.8 in /Users/surangananayakkara/Library/Python/3.9/lib/python/site-packages (from streamlit) (24.0)\n",
      "Collecting tenacity<9,>=8.1.0\n",
      "  Downloading tenacity-8.3.0-py3-none-any.whl (25 kB)\n",
      "Requirement already satisfied: tornado<7,>=6.0.3 in /Users/surangananayakkara/Library/Python/3.9/lib/python/site-packages (from streamlit) (6.4)\n",
      "Collecting pillow<11,>=7.1.0\n",
      "  Downloading pillow-10.3.0-cp39-cp39-macosx_11_0_arm64.whl (3.4 MB)\n",
      "\u001b[K     |████████████████████████████████| 3.4 MB 1.5 MB/s eta 0:00:01\n",
      "\u001b[?25hCollecting blinker<2,>=1.0.0\n",
      "  Downloading blinker-1.8.2-py3-none-any.whl (9.5 kB)\n",
      "Collecting rich<14,>=10.14.0\n",
      "  Downloading rich-13.7.1-py3-none-any.whl (240 kB)\n",
      "\u001b[K     |████████████████████████████████| 240 kB 754 kB/s eta 0:00:01\n",
      "\u001b[?25hCollecting pyarrow>=7.0\n",
      "  Downloading pyarrow-16.1.0-cp39-cp39-macosx_11_0_arm64.whl (26.0 MB)\n",
      "\u001b[K     |████████████████████████████████| 26.0 MB 1.5 MB/s eta 0:00:01\n",
      "\u001b[?25hCollecting toml<2,>=0.10.1\n",
      "  Downloading toml-0.10.2-py2.py3-none-any.whl (16 kB)\n",
      "Collecting pydeck<1,>=0.8.0b4\n",
      "  Downloading pydeck-0.9.1-py2.py3-none-any.whl (6.9 MB)\n",
      "\u001b[K     |████████████████████████████████| 6.9 MB 541 kB/s eta 0:00:01\n",
      "\u001b[?25hRequirement already satisfied: typing-extensions<5,>=4.3.0 in /Users/surangananayakkara/Library/Python/3.9/lib/python/site-packages (from streamlit) (4.12.0)\n",
      "Collecting pandas<3,>=1.3.0\n",
      "  Downloading pandas-2.2.2-cp39-cp39-macosx_11_0_arm64.whl (11.3 MB)\n",
      "\u001b[K     |████████████████████████████████| 11.3 MB 56.5 MB/s eta 0:00:01\n",
      "\u001b[?25hCollecting gitpython!=3.1.19,<4,>=3.0.7\n",
      "  Downloading GitPython-3.1.43-py3-none-any.whl (207 kB)\n",
      "\u001b[K     |████████████████████████████████| 207 kB 1.6 MB/s eta 0:00:01\n",
      "\u001b[?25hCollecting altair<6,>=4.0\n",
      "  Downloading altair-5.3.0-py3-none-any.whl (857 kB)\n",
      "\u001b[K     |████████████████████████████████| 857 kB 2.0 MB/s eta 0:00:01\n",
      "\u001b[?25hCollecting jinja2\n",
      "  Downloading jinja2-3.1.4-py3-none-any.whl (133 kB)\n",
      "\u001b[K     |████████████████████████████████| 133 kB 1.9 MB/s eta 0:00:01\n",
      "\u001b[?25hCollecting toolz\n",
      "  Downloading toolz-0.12.1-py3-none-any.whl (56 kB)\n",
      "\u001b[K     |████████████████████████████████| 56 kB 422 kB/s eta 0:00:01\n",
      "\u001b[?25hCollecting jsonschema>=3.0\n",
      "  Downloading jsonschema-4.22.0-py3-none-any.whl (88 kB)\n",
      "\u001b[K     |████████████████████████████████| 88 kB 1.7 MB/s eta 0:00:01\n",
      "\u001b[?25hCollecting gitdb<5,>=4.0.1\n",
      "  Downloading gitdb-4.0.11-py3-none-any.whl (62 kB)\n",
      "\u001b[K     |████████████████████████████████| 62 kB 1.1 MB/s eta 0:00:01\n",
      "\u001b[?25hCollecting smmap<6,>=3.0.1\n",
      "  Downloading smmap-5.0.1-py3-none-any.whl (24 kB)\n",
      "Collecting attrs>=22.2.0\n",
      "  Downloading attrs-23.2.0-py3-none-any.whl (60 kB)\n",
      "\u001b[K     |████████████████████████████████| 60 kB 2.3 MB/s eta 0:00:01\n",
      "\u001b[?25hCollecting referencing>=0.28.4\n",
      "  Downloading referencing-0.35.1-py3-none-any.whl (26 kB)\n",
      "Collecting jsonschema-specifications>=2023.03.6\n",
      "  Downloading jsonschema_specifications-2023.12.1-py3-none-any.whl (18 kB)\n",
      "Collecting rpds-py>=0.7.1\n",
      "  Downloading rpds_py-0.18.1-cp39-cp39-macosx_11_0_arm64.whl (322 kB)\n",
      "\u001b[K     |████████████████████████████████| 322 kB 2.3 MB/s eta 0:00:01\n",
      "\u001b[?25hRequirement already satisfied: python-dateutil>=2.8.2 in /Users/surangananayakkara/Library/Python/3.9/lib/python/site-packages (from pandas<3,>=1.3.0->streamlit) (2.9.0.post0)\n",
      "Collecting pytz>=2020.1\n",
      "  Downloading pytz-2024.1-py2.py3-none-any.whl (505 kB)\n",
      "\u001b[K     |████████████████████████████████| 505 kB 2.6 MB/s eta 0:00:01\n",
      "\u001b[?25hCollecting tzdata>=2022.7\n",
      "  Downloading tzdata-2024.1-py2.py3-none-any.whl (345 kB)\n",
      "\u001b[K     |████████████████████████████████| 345 kB 357 kB/s eta 0:00:01\n",
      "\u001b[?25hCollecting MarkupSafe>=2.0\n",
      "  Downloading MarkupSafe-2.1.5-cp39-cp39-macosx_10_9_universal2.whl (18 kB)\n",
      "Requirement already satisfied: six>=1.5 in /Library/Developer/CommandLineTools/Library/Frameworks/Python3.framework/Versions/3.9/lib/python3.9/site-packages (from python-dateutil>=2.8.2->pandas<3,>=1.3.0->streamlit) (1.15.0)\n",
      "Requirement already satisfied: certifi>=2017.4.17 in /Users/surangananayakkara/Library/Python/3.9/lib/python/site-packages (from requests<3,>=2.27->streamlit) (2024.2.2)\n",
      "Requirement already satisfied: charset-normalizer<4,>=2 in /Users/surangananayakkara/Library/Python/3.9/lib/python/site-packages (from requests<3,>=2.27->streamlit) (3.3.2)\n",
      "Requirement already satisfied: urllib3<3,>=1.21.1 in /Users/surangananayakkara/Library/Python/3.9/lib/python/site-packages (from requests<3,>=2.27->streamlit) (2.2.1)\n",
      "Requirement already satisfied: idna<4,>=2.5 in /Users/surangananayakkara/Library/Python/3.9/lib/python/site-packages (from requests<3,>=2.27->streamlit) (3.7)\n",
      "Collecting markdown-it-py>=2.2.0\n",
      "  Downloading markdown_it_py-3.0.0-py3-none-any.whl (87 kB)\n",
      "\u001b[K     |████████████████████████████████| 87 kB 2.8 MB/s eta 0:00:01\n",
      "\u001b[?25hRequirement already satisfied: pygments<3.0.0,>=2.13.0 in /Users/surangananayakkara/Library/Python/3.9/lib/python/site-packages (from rich<14,>=10.14.0->streamlit) (2.18.0)\n",
      "Collecting mdurl~=0.1\n",
      "  Downloading mdurl-0.1.2-py3-none-any.whl (10.0 kB)\n",
      "Installing collected packages: rpds-py, attrs, referencing, tzdata, smmap, pytz, numpy, mdurl, MarkupSafe, jsonschema-specifications, toolz, pandas, markdown-it-py, jsonschema, jinja2, gitdb, toml, tenacity, rich, pydeck, pyarrow, protobuf, pillow, gitpython, click, cachetools, blinker, altair, streamlit\n",
      "Successfully installed MarkupSafe-2.1.5 altair-5.3.0 attrs-23.2.0 blinker-1.8.2 cachetools-5.3.3 click-8.1.7 gitdb-4.0.11 gitpython-3.1.43 jinja2-3.1.4 jsonschema-4.22.0 jsonschema-specifications-2023.12.1 markdown-it-py-3.0.0 mdurl-0.1.2 numpy-1.26.4 pandas-2.2.2 pillow-10.3.0 protobuf-4.25.3 pyarrow-16.1.0 pydeck-0.9.1 pytz-2024.1 referencing-0.35.1 rich-13.7.1 rpds-py-0.18.1 smmap-5.0.1 streamlit-1.35.0 tenacity-8.3.0 toml-0.10.2 toolz-0.12.1 tzdata-2024.1\n",
      "\u001b[33mWARNING: You are using pip version 21.2.4; however, version 24.0 is available.\n",
      "You should consider upgrading via the '/Library/Developer/CommandLineTools/usr/bin/python3 -m pip install --upgrade pip' command.\u001b[0m\n"
     ]
    }
   ],
   "source": [
    "! pip3 install python-dotenv"
   ]
  },
  {
   "cell_type": "code",
   "execution_count": 18,
   "metadata": {
    "jupyter": {
     "is_executing": true
    }
   },
   "outputs": [],
   "source": [
    "import os\n",
    "import argparse\n",
    "import glob\n",
    "import html\n",
    "import io\n",
    "import re\n",
    "import time\n",
    "from pypdf import PdfReader, PdfWriter\n",
    "from azure.identity import AzureDeveloperCliCredential\n",
    "from azure.core.credentials import AzureKeyCredential\n",
    "from azure.storage.blob import BlobServiceClient\n",
    "from azure.search.documents.indexes import SearchIndexClient\n",
    "from azure.search.documents.indexes.models import *\n",
    "from azure.search.documents import SearchClient\n",
    "from azure.ai.formrecognizer import DocumentAnalysisClient"
   ]
  },
  {
   "cell_type": "code",
   "execution_count": 19,
   "metadata": {
    "ExecuteTime": {
     "end_time": "2024-05-07T05:24:41.048744Z",
     "start_time": "2024-05-07T05:24:41.033489Z"
    }
   },
   "outputs": [],
   "source": [
    "# add keys from env"
   ]
  },
  {
   "cell_type": "code",
   "execution_count": 20,
   "metadata": {
    "ExecuteTime": {
     "end_time": "2024-05-07T05:18:21.224271Z",
     "start_time": "2024-05-07T05:18:21.219281Z"
    }
   },
   "outputs": [],
   "source": [
    "search_creds = AzureKeyCredential(searchkey)\n",
    "storage_creds = storagekey\n",
    "\n",
    "# formrecognizer_creds = AzureKeyCredential(formrecognizerkey)"
   ]
  },
  {
   "cell_type": "code",
   "execution_count": 21,
   "metadata": {
    "ExecuteTime": {
     "end_time": "2024-05-07T05:18:21.687935Z",
     "start_time": "2024-05-07T05:18:21.684552Z"
    }
   },
   "outputs": [],
   "source": [
    "MAX_SECTION_LENGTH = 1000\n",
    "SENTENCE_SEARCH_LIMIT = 100\n",
    "SECTION_OVERLAP = 100"
   ]
  },
  {
   "cell_type": "markdown",
   "metadata": {},
   "source": [
    "### FUNCTIONS"
   ]
  },
  {
   "cell_type": "code",
   "execution_count": 22,
   "metadata": {
    "ExecuteTime": {
     "end_time": "2024-05-07T05:18:22.728958Z",
     "start_time": "2024-05-07T05:18:22.724912Z"
    }
   },
   "outputs": [],
   "source": [
    "def blob_name_from_file_page(filename, page = 0):\n",
    "    if os.path.splitext(filename)[1].lower() == \".pdf\":\n",
    "        return os.path.splitext(os.path.basename(filename))[0] + f\"-{page}\" + \".pdf\"\n",
    "    else:\n",
    "        return os.path.basename(filename)"
   ]
  },
  {
   "cell_type": "code",
   "execution_count": 23,
   "metadata": {
    "ExecuteTime": {
     "end_time": "2024-05-07T05:18:23.077701Z",
     "start_time": "2024-05-07T05:18:23.053594Z"
    }
   },
   "outputs": [],
   "source": [
    "def upload_blobs(filename):\n",
    "    blob_service = BlobServiceClient(account_url=f\"https://{storageaccount}.blob.core.windows.net\", credential=storage_creds)\n",
    "    blob_container = blob_service.get_container_client('chat')\n",
    "    \n",
    "    if not blob_container.exists():\n",
    "        blob_container.create_container()\n",
    "\n",
    "    # if file is PDF split into pages and upload each page as a separate blob\n",
    "    if os.path.splitext(filename)[1].lower() == \".pdf\":\n",
    "        reader = PdfReader(filename)\n",
    "        pages = reader.pages\n",
    "        for i in range(len(pages)):\n",
    "            blob_name = blob_name_from_file_page(filename, i)\n",
    "            if verbose: print(f\"\\tUploading blob for page {i} -> {blob_name}\")\n",
    "            f = io.BytesIO()\n",
    "            writer = PdfWriter()\n",
    "            writer.add_page(pages[i])\n",
    "            writer.write(f)\n",
    "            f.seek(0)\n",
    "            blob_container.upload_blob(blob_name, f, overwrite=True)\n",
    "    else:\n",
    "        blob_name = blob_name_from_file_page(filename)\n",
    "        with open(filename,\"rb\") as data:\n",
    "            blob_container.upload_blob(blob_name, data, overwrite=True)\n",
    "\n",
    "\n",
    "def table_to_html(table):\n",
    "    table_html = \"<table>\"\n",
    "    rows = [sorted([cell for cell in table.cells if cell.row_index == i], key=lambda cell: cell.column_index) for i in range(table.row_count)]\n",
    "    for row_cells in rows:\n",
    "        table_html += \"<tr>\"\n",
    "        for cell in row_cells:\n",
    "            tag = \"th\" if (cell.kind == \"columnHeader\" or cell.kind == \"rowHeader\") else \"td\"\n",
    "            cell_spans = \"\"\n",
    "            if cell.column_span > 1: cell_spans += f\" colSpan={cell.column_span}\"\n",
    "            if cell.row_span > 1: cell_spans += f\" rowSpan={cell.row_span}\"\n",
    "            table_html += f\"<{tag}{cell_spans}>{html.escape(cell.content)}</{tag}>\"\n",
    "        table_html +=\"</tr>\"\n",
    "    table_html += \"</table>\"\n",
    "    return table_html\n",
    "\n",
    "def get_document_text(filename):\n",
    "    offset = 0\n",
    "    page_map = []\n",
    "    if localpdfparser:\n",
    "        reader = PdfReader(filename)\n",
    "        pages = reader.pages\n",
    "        for page_num, p in enumerate(pages):\n",
    "            page_text = p.extract_text()\n",
    "            page_map.append((page_num, offset, page_text))\n",
    "            offset += len(page_text)\n",
    "    else:\n",
    "        if verbose: print(f\"Extracting text from '{filename}' using Azure Form Recognizer\")\n",
    "        form_recognizer_client = DocumentAnalysisClient(endpoint=f\"https://{formrecognizerservice}.cognitiveservices.azure.com/\", credential=formrecognizer_creds, headers={\"x-ms-useragent\": \"azure-search-chat-demo/1.0.0\"})\n",
    "        with open(filename, \"rb\") as f:\n",
    "            poller = form_recognizer_client.begin_analyze_document(\"prebuilt-layout\", document = f)\n",
    "        form_recognizer_results = poller.result()\n",
    "\n",
    "        for page_num, page in enumerate(form_recognizer_results.pages):\n",
    "            tables_on_page = [table for table in form_recognizer_results.tables if table.bounding_regions[0].page_number == page_num + 1]\n",
    "\n",
    "            # mark all positions of the table spans in the page\n",
    "            page_offset = page.spans[0].offset\n",
    "            page_length = page.spans[0].length\n",
    "            table_chars = [-1]*page_length\n",
    "            for table_id, table in enumerate(tables_on_page):\n",
    "                for span in table.spans:\n",
    "                    # replace all table spans with \"table_id\" in table_chars array\n",
    "                    for i in range(span.length):\n",
    "                        idx = span.offset - page_offset + i\n",
    "                        if idx >=0 and idx < page_length:\n",
    "                            table_chars[idx] = table_id\n",
    "\n",
    "            # build page text by replacing charcters in table spans with table html\n",
    "            page_text = \"\"\n",
    "            added_tables = set()\n",
    "            for idx, table_id in enumerate(table_chars):\n",
    "                if table_id == -1:\n",
    "                    page_text += form_recognizer_results.content[page_offset + idx]\n",
    "                elif not table_id in added_tables:\n",
    "                    page_text += table_to_html(tables_on_page[table_id])\n",
    "                    added_tables.add(table_id)\n",
    "\n",
    "            page_text += \" \"\n",
    "            page_map.append((page_num, offset, page_text))\n",
    "            offset += len(page_text)\n",
    "\n",
    "    return page_map"
   ]
  },
  {
   "cell_type": "code",
   "execution_count": 24,
   "metadata": {
    "ExecuteTime": {
     "end_time": "2024-05-07T05:18:23.399236Z",
     "start_time": "2024-05-07T05:18:23.373458Z"
    }
   },
   "outputs": [],
   "source": [
    "def split_text(page_map):\n",
    "    SENTENCE_ENDINGS = [\".\", \"!\", \"?\"]\n",
    "    WORDS_BREAKS = [\",\", \";\", \":\", \" \", \"(\", \")\", \"[\", \"]\", \"{\", \"}\", \"\\t\", \"\\n\"]\n",
    "    if verbose: print(f\"Splitting '{filename}' into sections\")\n",
    "\n",
    "    def find_page(offset):\n",
    "        l = len(page_map)\n",
    "        for i in range(l - 1):\n",
    "            if offset >= page_map[i][1] and offset < page_map[i + 1][1]:\n",
    "                return i\n",
    "        return l - 1\n",
    "\n",
    "    all_text = \"\".join(p[2] for p in page_map)\n",
    "    length = len(all_text)\n",
    "    start = 0\n",
    "    end = length\n",
    "    while start + SECTION_OVERLAP < length:\n",
    "        last_word = -1\n",
    "        end = start + MAX_SECTION_LENGTH\n",
    "\n",
    "        if end > length:\n",
    "            end = length\n",
    "        else:\n",
    "            # Try to find the end of the sentence\n",
    "            while end < length and (end - start - MAX_SECTION_LENGTH) < SENTENCE_SEARCH_LIMIT and all_text[end] not in SENTENCE_ENDINGS:\n",
    "                if all_text[end] in WORDS_BREAKS:\n",
    "                    last_word = end\n",
    "                end += 1\n",
    "            if end < length and all_text[end] not in SENTENCE_ENDINGS and last_word > 0:\n",
    "                end = last_word # Fall back to at least keeping a whole word\n",
    "        if end < length:\n",
    "            end += 1\n",
    "\n",
    "        # Try to find the start of the sentence or at least a whole word boundary\n",
    "        last_word = -1\n",
    "        while start > 0 and start > end - MAX_SECTION_LENGTH - 2 * SENTENCE_SEARCH_LIMIT and all_text[start] not in SENTENCE_ENDINGS:\n",
    "            if all_text[start] in WORDS_BREAKS:\n",
    "                last_word = start\n",
    "            start -= 1\n",
    "        if all_text[start] not in SENTENCE_ENDINGS and last_word > 0:\n",
    "            start = last_word\n",
    "        if start > 0:\n",
    "            start += 1\n",
    "\n",
    "        section_text = all_text[start:end]\n",
    "        yield (section_text, find_page(start))\n",
    "\n",
    "        last_table_start = section_text.rfind(\"<table\")\n",
    "        if (last_table_start > 2 * SENTENCE_SEARCH_LIMIT and last_table_start > section_text.rfind(\"</table\")):\n",
    "            # If the section ends with an unclosed table, we need to start the next section with the table.\n",
    "            # If table starts inside SENTENCE_SEARCH_LIMIT, we ignore it, as that will cause an infinite loop for tables longer than MAX_SECTION_LENGTH\n",
    "            # If last table starts inside SECTION_OVERLAP, keep overlapping\n",
    "            if verbose: print(f\"Section ends with unclosed table, starting next section with the table at page {find_page(start)} offset {start} table start {last_table_start}\")\n",
    "            start = min(end - SECTION_OVERLAP, start + last_table_start)\n",
    "        else:\n",
    "            start = end - SECTION_OVERLAP\n",
    "        \n",
    "    if start + SECTION_OVERLAP < end:\n",
    "        yield (all_text[start:end], find_page(start))\n",
    "\n",
    "def create_sections(filename, page_map):\n",
    "    for i, (section, pagenum) in enumerate(split_text(page_map)):\n",
    "        yield {\n",
    "            \"id\": re.sub(\"[^0-9a-zA-Z_-]\",\"_\",f\"{filename}-{i}\"),\n",
    "            \"content\": section,\n",
    "            \"category\": category,\n",
    "            \"sourcepage\": blob_name_from_file_page(filename, pagenum),\n",
    "            \"sourcefile\": filename\n",
    "        }\n",
    "\n",
    "def create_search_index():\n",
    "    if verbose: print(f\"Ensuring search index {index} exists\")\n",
    "    index_client = SearchIndexClient(endpoint=f\"https://{searchservice}.search.windows.net/\",\n",
    "                                     credential=search_creds)\n",
    "    if index not in index_client.list_index_names():\n",
    "        search_index = SearchIndex(\n",
    "            name=index,\n",
    "            fields=[\n",
    "                SimpleField(name=\"id\", type=\"Edm.String\", key=True),\n",
    "                SearchableField(name=\"content\", type=\"Edm.String\", analyzer_name=\"en.microsoft\"),\n",
    "                SimpleField(name=\"category\", type=\"Edm.String\", filterable=True, facetable=True),\n",
    "                SimpleField(name=\"sourcepage\", type=\"Edm.String\", filterable=True, facetable=True),\n",
    "                SimpleField(name=\"sourcefile\", type=\"Edm.String\", filterable=True, facetable=True)\n",
    "            ],\n",
    "            semantic_settings=SemanticSettings(\n",
    "                configurations=[SemanticConfiguration(\n",
    "                    name='default',\n",
    "                    prioritized_fields=PrioritizedFields(\n",
    "                        title_field=None, prioritized_content_fields=[SemanticField(field_name='content')]))])\n",
    "        )\n",
    "        if verbose: print(f\"Creating {index} search index\")\n",
    "        index_client.create_index(search_index)\n",
    "    else:\n",
    "        if verbose: print(f\"Search index {index} already exists\")\n",
    "\n",
    "def index_sections(filename, sections):\n",
    "    if verbose: print(f\"Indexing sections from '{filename}' into search index '{index}'\")\n",
    "    search_client = SearchClient(endpoint=f\"https://{searchservice}.search.windows.net/\",\n",
    "                                    index_name=index,\n",
    "                                    credential=search_creds)\n",
    "    i = 0\n",
    "    batch = []\n",
    "    for s in sections:\n",
    "        batch.append(s)\n",
    "        i += 1\n",
    "        if i % 1000 == 0:\n",
    "            results = search_client.upload_documents(documents=batch)\n",
    "            succeeded = sum([1 for r in results if r.succeeded])\n",
    "            if verbose: print(f\"\\tIndexed {len(results)} sections, {succeeded} succeeded\")\n",
    "            batch = []\n",
    "\n",
    "    if len(batch) > 0:\n",
    "        results = search_client.upload_documents(documents=batch)\n",
    "        succeeded = sum([1 for r in results if r.succeeded])\n",
    "        if verbose: print(f\"\\tIndexed {len(results)} sections, {succeeded} succeeded\")\n",
    "\n",
    "def remove_from_index(filename):\n",
    "    if verbose: print(f\"Removing sections from '{filename or '<all>'}' from search index '{index}'\")\n",
    "    search_client = SearchClient(endpoint=f\"https://{searchservice}.search.windows.net/\",\n",
    "                                    index_name=index,\n",
    "                                    credential=search_creds)\n",
    "    while True:\n",
    "        #filter = None if filename == None else f\"sourcefile eq '{os.path.basename(filename)}'\"\n",
    "        filter = None if filename == None else f\"sourcepage eq '{filename}'\"\n",
    "        r = search_client.search(\"\", filter=filter, top=1000, include_total_count=True)\n",
    "        if r.get_count() == 0:\n",
    "            break\n",
    "        r = search_client.delete_documents(documents=[{ \"id\": d[\"id\"] } for d in r])\n",
    "        if verbose: print(f\"\\tRemoved {len(r)} sections from index\")\n",
    "        # It can take a few seconds for search results to reflect changes, so wait a bit\n",
    "        time.sleep(2)\n",
    "\n"
   ]
  },
  {
   "cell_type": "code",
   "execution_count": 15,
   "metadata": {
    "ExecuteTime": {
     "end_time": "2024-05-07T05:18:26.410076Z",
     "start_time": "2024-05-07T05:18:23.702676Z"
    }
   },
   "outputs": [
    {
     "name": "stdout",
     "output_type": "stream",
     "text": [
      "Ensuring search index haycarbtext exists\n",
      "Creating haycarbtext search index\n"
     ]
    }
   ],
   "source": [
    "create_search_index()"
   ]
  },
  {
   "cell_type": "code",
   "execution_count": 16,
   "metadata": {
    "ExecuteTime": {
     "end_time": "2024-05-07T05:24:46.842005Z",
     "start_time": "2024-05-07T05:24:46.835344Z"
    }
   },
   "outputs": [
    {
     "data": {
      "text/plain": [
       "'docs_text'"
      ]
     },
     "execution_count": 16,
     "metadata": {},
     "output_type": "execute_result"
    }
   ],
   "source": [
    "FILE_PATH"
   ]
  },
  {
   "cell_type": "code",
   "execution_count": 17,
   "metadata": {
    "ExecuteTime": {
     "end_time": "2024-05-07T05:24:57.217962Z",
     "start_time": "2024-05-07T05:24:57.213100Z"
    }
   },
   "outputs": [
    {
     "name": "stdout",
     "output_type": "stream",
     "text": [
      "Processing 'docs_text/page (340-360).txt'\n"
     ]
    },
    {
     "ename": "PdfReadError",
     "evalue": "EOF marker not found",
     "output_type": "error",
     "traceback": [
      "\u001b[0;31m---------------------------------------------------------------------------\u001b[0m",
      "\u001b[0;31mPdfReadError\u001b[0m                              Traceback (most recent call last)",
      "Cell \u001b[0;32mIn[17], line 4\u001b[0m\n\u001b[1;32m      2\u001b[0m \u001b[38;5;28;01mif\u001b[39;00m verbose: \u001b[38;5;28mprint\u001b[39m(\u001b[38;5;124mf\u001b[39m\u001b[38;5;124m\"\u001b[39m\u001b[38;5;124mProcessing \u001b[39m\u001b[38;5;124m'\u001b[39m\u001b[38;5;132;01m{\u001b[39;00mfilename\u001b[38;5;132;01m}\u001b[39;00m\u001b[38;5;124m'\u001b[39m\u001b[38;5;124m\"\u001b[39m)\n\u001b[1;32m      3\u001b[0m upload_blobs(filename)\n\u001b[0;32m----> 4\u001b[0m page_map \u001b[38;5;241m=\u001b[39m \u001b[43mget_document_text\u001b[49m\u001b[43m(\u001b[49m\u001b[43mfilename\u001b[49m\u001b[43m)\u001b[49m\n\u001b[1;32m      5\u001b[0m sections \u001b[38;5;241m=\u001b[39m create_sections(filename, page_map)\n\u001b[1;32m      6\u001b[0m index_sections(filename, sections)\n",
      "Cell \u001b[0;32mIn[7], line 46\u001b[0m, in \u001b[0;36mget_document_text\u001b[0;34m(filename)\u001b[0m\n\u001b[1;32m     44\u001b[0m page_map \u001b[38;5;241m=\u001b[39m []\n\u001b[1;32m     45\u001b[0m \u001b[38;5;28;01mif\u001b[39;00m localpdfparser:\n\u001b[0;32m---> 46\u001b[0m     reader \u001b[38;5;241m=\u001b[39m \u001b[43mPdfReader\u001b[49m\u001b[43m(\u001b[49m\u001b[43mfilename\u001b[49m\u001b[43m)\u001b[49m\n\u001b[1;32m     47\u001b[0m     pages \u001b[38;5;241m=\u001b[39m reader\u001b[38;5;241m.\u001b[39mpages\n\u001b[1;32m     48\u001b[0m     \u001b[38;5;28;01mfor\u001b[39;00m page_num, p \u001b[38;5;129;01min\u001b[39;00m \u001b[38;5;28menumerate\u001b[39m(pages):\n",
      "File \u001b[0;32m~/Desktop/Haycarb Annual Report/.venv/lib/python3.11/site-packages/pypdf/_reader.py:319\u001b[0m, in \u001b[0;36mPdfReader.__init__\u001b[0;34m(self, stream, strict, password)\u001b[0m\n\u001b[1;32m    317\u001b[0m     \u001b[38;5;28;01mwith\u001b[39;00m \u001b[38;5;28mopen\u001b[39m(stream, \u001b[38;5;124m\"\u001b[39m\u001b[38;5;124mrb\u001b[39m\u001b[38;5;124m\"\u001b[39m) \u001b[38;5;28;01mas\u001b[39;00m fh:\n\u001b[1;32m    318\u001b[0m         stream \u001b[38;5;241m=\u001b[39m BytesIO(fh\u001b[38;5;241m.\u001b[39mread())\n\u001b[0;32m--> 319\u001b[0m \u001b[38;5;28;43mself\u001b[39;49m\u001b[38;5;241;43m.\u001b[39;49m\u001b[43mread\u001b[49m\u001b[43m(\u001b[49m\u001b[43mstream\u001b[49m\u001b[43m)\u001b[49m\n\u001b[1;32m    320\u001b[0m \u001b[38;5;28mself\u001b[39m\u001b[38;5;241m.\u001b[39mstream \u001b[38;5;241m=\u001b[39m stream\n\u001b[1;32m    322\u001b[0m \u001b[38;5;28mself\u001b[39m\u001b[38;5;241m.\u001b[39m_override_encryption \u001b[38;5;241m=\u001b[39m \u001b[38;5;28;01mFalse\u001b[39;00m\n",
      "File \u001b[0;32m~/Desktop/Haycarb Annual Report/.venv/lib/python3.11/site-packages/pypdf/_reader.py:1504\u001b[0m, in \u001b[0;36mPdfReader.read\u001b[0;34m(self, stream)\u001b[0m\n\u001b[1;32m   1502\u001b[0m \u001b[38;5;28;01mdef\u001b[39;00m \u001b[38;5;21mread\u001b[39m(\u001b[38;5;28mself\u001b[39m, stream: StreamType) \u001b[38;5;241m-\u001b[39m\u001b[38;5;241m>\u001b[39m \u001b[38;5;28;01mNone\u001b[39;00m:\n\u001b[1;32m   1503\u001b[0m     \u001b[38;5;28mself\u001b[39m\u001b[38;5;241m.\u001b[39m_basic_validation(stream)\n\u001b[0;32m-> 1504\u001b[0m     \u001b[38;5;28;43mself\u001b[39;49m\u001b[38;5;241;43m.\u001b[39;49m\u001b[43m_find_eof_marker\u001b[49m\u001b[43m(\u001b[49m\u001b[43mstream\u001b[49m\u001b[43m)\u001b[49m\n\u001b[1;32m   1505\u001b[0m     startxref \u001b[38;5;241m=\u001b[39m \u001b[38;5;28mself\u001b[39m\u001b[38;5;241m.\u001b[39m_find_startxref_pos(stream)\n\u001b[1;32m   1507\u001b[0m     \u001b[38;5;66;03m# check and eventually correct the startxref only in not strict\u001b[39;00m\n",
      "File \u001b[0;32m~/Desktop/Haycarb Annual Report/.venv/lib/python3.11/site-packages/pypdf/_reader.py:1568\u001b[0m, in \u001b[0;36mPdfReader._find_eof_marker\u001b[0;34m(self, stream)\u001b[0m\n\u001b[1;32m   1566\u001b[0m \u001b[38;5;28;01mwhile\u001b[39;00m line[:\u001b[38;5;241m5\u001b[39m] \u001b[38;5;241m!=\u001b[39m \u001b[38;5;124mb\u001b[39m\u001b[38;5;124m\"\u001b[39m\u001b[38;5;132;01m%%\u001b[39;00m\u001b[38;5;124mEOF\u001b[39m\u001b[38;5;124m\"\u001b[39m:\n\u001b[1;32m   1567\u001b[0m     \u001b[38;5;28;01mif\u001b[39;00m stream\u001b[38;5;241m.\u001b[39mtell() \u001b[38;5;241m<\u001b[39m HEADER_SIZE:\n\u001b[0;32m-> 1568\u001b[0m         \u001b[38;5;28;01mraise\u001b[39;00m PdfReadError(\u001b[38;5;124m\"\u001b[39m\u001b[38;5;124mEOF marker not found\u001b[39m\u001b[38;5;124m\"\u001b[39m)\n\u001b[1;32m   1569\u001b[0m     line \u001b[38;5;241m=\u001b[39m read_previous_line(stream)\n",
      "\u001b[0;31mPdfReadError\u001b[0m: EOF marker not found"
     ]
    }
   ],
   "source": [
    "for filename in glob.glob(FILE_PATH + \"/*.txt\"):\n",
    "    if verbose: print(f\"Processing '{filename}'\")\n",
    "    upload_blobs(filename)\n",
    "    page_map = get_document_text(filename)\n",
    "    sections = create_sections(filename, page_map)\n",
    "    index_sections(filename, sections)"
   ]
  },
  {
   "cell_type": "code",
   "execution_count": null,
   "metadata": {
    "collapsed": false
   },
   "outputs": [],
   "source": []
  }
 ],
 "metadata": {
  "kernelspec": {
   "display_name": "azureaisearch_env",
   "language": "python",
   "name": "python3"
  },
  "language_info": {
   "codemirror_mode": {
    "name": "ipython",
    "version": 3
   },
   "file_extension": ".py",
   "mimetype": "text/x-python",
   "name": "python",
   "nbconvert_exporter": "python",
   "pygments_lexer": "ipython3",
   "version": "3.11.9"
  }
 },
 "nbformat": 4,
 "nbformat_minor": 2
}
